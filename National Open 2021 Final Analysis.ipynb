{
 "cells": [
  {
   "cell_type": "code",
   "execution_count": 103,
   "metadata": {},
   "outputs": [],
   "source": [
    "import pandas as pd\n",
    "import numpy as np\n",
    "import requests\n",
    "from bs4 import BeautifulSoup \n",
    "from selenium import webdriver\n",
    "import requests_html\n",
    "import csv"
   ]
  },
  {
   "cell_type": "code",
   "execution_count": 104,
   "metadata": {},
   "outputs": [],
   "source": [
    "advanceentrieslist = pd.read_csv('AdvanceEntry.csv')\n",
    "updateddf = advanceentrieslist[['uscfid', 'FIDE ID']]"
   ]
  },
  {
   "cell_type": "code",
   "execution_count": 105,
   "metadata": {},
   "outputs": [],
   "source": [
    "URL = 'https://www.vegaschessfestival.com/live/results/'\n",
    "page = requests.get(URL, headers={'User-Agent': 'Mozilla/5.0'})\n",
    "soup = BeautifulSoup(page.content, 'lxml')\n",
    "\n",
    "tables = soup.find_all(class_ = 'doublescroll')\n",
    "string = tables[0].text\n",
    "listofrows = string.split('\\n')\n"
   ]
  },
  {
   "cell_type": "code",
   "execution_count": 106,
   "metadata": {},
   "outputs": [],
   "source": [
    "first9 =listofrows[0:10]\n",
    "therest = listofrows[10:100]\n",
    "therealrest = listofrows[100:]"
   ]
  },
  {
   "cell_type": "code",
   "execution_count": 107,
   "metadata": {},
   "outputs": [],
   "source": [
    "placement = []\n",
    "title = []\n",
    "name = []\n",
    "federation = []\n",
    "uscf_id = []\n",
    "fide_rating = []\n",
    "uscf_rating = []\n",
    "score = []\n",
    "round1 = []\n",
    "round2 = []\n",
    "round3 = []\n",
    "round4 = []\n",
    "round5 = []\n",
    "round6 = []\n",
    "round7 = []\n",
    "round8 = []\n",
    "round9 = []\n",
    "\n",
    "for player in first9:\n",
    "    placement.append(player[0:2])\n",
    "    title.append(player[2:6])\n",
    "    name.append(player[6:33])\n",
    "    federation.append(player[33:37])\n",
    "    uscf_id.append(player[37:45])\n",
    "    fide_rating.append(player[46:50])\n",
    "    uscf_rating.append(player[52:56])\n",
    "    score.append(player[62:65])\n",
    "    round1.append(player[66:70])\n",
    "    round2.append(player[71:75])\n",
    "    round3.append(player[76:80])\n",
    "    round4.append(player[81:85])\n",
    "    round5.append(player[86:90])\n",
    "    round6.append(player[91:95])\n",
    "    round7.append(player[96:100])\n",
    "    round8.append(player[101:105])\n",
    "    round9.append(player[106:110])\n",
    "    \n",
    "for player in therest:\n",
    "    placement.append(player[0:2])\n",
    "    title.append(player[3:6])\n",
    "    name.append(player[6:33])\n",
    "    federation.append(player[33:37])\n",
    "    uscf_id.append(player[38:46])\n",
    "    fide_rating.append(player[47:51])\n",
    "    uscf_rating.append(player[53:57])\n",
    "    score.append(player[63:66])\n",
    "    round1.append(player[67:71])\n",
    "    round2.append(player[72:76])\n",
    "    round3.append(player[77:81])\n",
    "    round4.append(player[82:86])\n",
    "    round5.append(player[87:91])\n",
    "    round6.append(player[92:96])\n",
    "    round7.append(player[97:101])\n",
    "    round8.append(player[102:106])\n",
    "    round9.append(player[107:111])\n",
    "    \n",
    "for player in therealrest:\n",
    "    placement.append(player[0:3])\n",
    "    title.append(player[3:6])\n",
    "    name.append(player[6:33])\n",
    "    federation.append(player[33:37])\n",
    "    uscf_id.append(player[39:47])\n",
    "    fide_rating.append(player[48:52])\n",
    "    uscf_rating.append(player[54:58])\n",
    "    score.append(player[64:67])\n",
    "    round1.append(player[68:72])\n",
    "    round2.append(player[73:77])\n",
    "    round3.append(player[78:82])\n",
    "    round4.append(player[83:87])\n",
    "    round5.append(player[88:92])\n",
    "    round6.append(player[93:97])\n",
    "    round7.append(player[98:102])\n",
    "    round8.append(player[103:107])\n",
    "    round9.append(player[108:112])"
   ]
  },
  {
   "cell_type": "code",
   "execution_count": 108,
   "metadata": {},
   "outputs": [],
   "source": [
    "df = pd.DataFrame(list(zip(placement, title,name,federation,uscf_id,fide_rating,uscf_rating,score,round1,round2,round3 ,round4 ,round5 ,round6 ,round7 ,round8,round9 )),\n",
    "               columns =['Place', 'Title', 'Name', 'Federation', 'USCF ID', 'FIDE rating', 'USCF rating', 'Score', 'Round1', 'Round2', 'Round3', 'Round4', 'Round5', 'Round6', 'Round7', 'Round8', 'Round9'])\n",
    "\n",
    "df.drop(index=df.index[0], \n",
    "        axis=0, \n",
    "        inplace=True)\n",
    "\n"
   ]
  },
  {
   "cell_type": "code",
   "execution_count": 109,
   "metadata": {},
   "outputs": [
    {
     "name": "stderr",
     "output_type": "stream",
     "text": [
      "C:\\Users\\danie\\Anaconda3\\lib\\site-packages\\ipykernel_launcher.py:15: SettingWithCopyWarning: \n",
      "A value is trying to be set on a copy of a slice from a DataFrame.\n",
      "Try using .loc[row_indexer,col_indexer] = value instead\n",
      "\n",
      "See the caveats in the documentation: https://pandas.pydata.org/pandas-docs/stable/user_guide/indexing.html#returning-a-view-versus-a-copy\n",
      "  from ipykernel import kernelapp as app\n",
      "C:\\Users\\danie\\Anaconda3\\lib\\site-packages\\ipykernel_launcher.py:16: SettingWithCopyWarning: \n",
      "A value is trying to be set on a copy of a slice from a DataFrame.\n",
      "Try using .loc[row_indexer,col_indexer] = value instead\n",
      "\n",
      "See the caveats in the documentation: https://pandas.pydata.org/pandas-docs/stable/user_guide/indexing.html#returning-a-view-versus-a-copy\n",
      "  app.launch_new_instance()\n"
     ]
    }
   ],
   "source": [
    "uscflist = updateddf['uscfid'].tolist()\n",
    "fidelist = updateddf['FIDE ID'].tolist()\n",
    "\n",
    "newlistuscf = []\n",
    "for item in uscflist:\n",
    "    new = item.replace('\\xa0', '')\n",
    "    newlistuscf.append(new)\n",
    "    \n",
    "newlistfide= []\n",
    "\n",
    "for items in fidelist:\n",
    "    newz = items.replace('\\xa0', '')\n",
    "    newlistfide.append(newz)\n",
    "    \n",
    "updateddf['real uscf'] = newlistuscf\n",
    "updateddf['real fide'] = newlistfide\n",
    "\n",
    "updateddf = updateddf.drop(['uscfid', 'FIDE ID'], axis = 1)"
   ]
  },
  {
   "cell_type": "code",
   "execution_count": 110,
   "metadata": {},
   "outputs": [],
   "source": [
    "joineddf = pd.merge(left=df, right=updateddf, how='left', left_on='USCF ID', right_on='real uscf')\n",
    "\n",
    "N = 2\n",
    "joineddf.drop(index=joineddf.index[-N:], \n",
    "        axis=0, \n",
    "        inplace=True)"
   ]
  },
  {
   "cell_type": "code",
   "execution_count": 111,
   "metadata": {},
   "outputs": [],
   "source": [
    "birthyears = pd.read_csv('birthyearsonly.csv')\n",
    "newlist = birthyears['real uscf'].tolist()\n",
    "for item in range(len(newlist)):\n",
    "    newlist[item] = str(newlist[item]).split(\".\")[0]\n",
    "\n",
    "birthyears['USCF ID'] = newlist"
   ]
  },
  {
   "cell_type": "code",
   "execution_count": 112,
   "metadata": {},
   "outputs": [],
   "source": [
    "birthyears = birthyears.drop(['real uscf', 'real fide'], axis = 1)"
   ]
  },
  {
   "cell_type": "code",
   "execution_count": 113,
   "metadata": {},
   "outputs": [],
   "source": [
    "final_df = pd.merge(left=joineddf, right=birthyears, how='left', left_on='USCF ID', right_on='USCF ID')"
   ]
  },
  {
   "cell_type": "code",
   "execution_count": 114,
   "metadata": {},
   "outputs": [],
   "source": [
    "final_df = final_df.drop(['real uscf', 'real fide'], axis = 1)"
   ]
  },
  {
   "cell_type": "code",
   "execution_count": 115,
   "metadata": {},
   "outputs": [],
   "source": [
    "originalplaces = final_df['Place'].tolist()\n",
    "fideratings = final_df['FIDE rating'].tolist()\n",
    "uscfratings = final_df['USCF rating'].tolist()\n",
    "for item in range(len(originalplaces)):\n",
    "    originalplaces[item] = originalplaces[item].strip()\n",
    "for item in range(len(fideratings)):\n",
    "    fideratings[item] = fideratings[item].strip()"
   ]
  },
  {
   "cell_type": "code",
   "execution_count": 116,
   "metadata": {},
   "outputs": [],
   "source": [
    "dict = {originalplaces[i]: fideratings[i] for i in range(len(originalplaces))}"
   ]
  },
  {
   "cell_type": "code",
   "execution_count": 117,
   "metadata": {},
   "outputs": [
    {
     "data": {
      "text/plain": [
       "''"
      ]
     },
     "execution_count": 117,
     "metadata": {},
     "output_type": "execute_result"
    }
   ],
   "source": [
    "dict.pop('84', None)\n",
    "dict.pop('114', None)\n",
    "dict.pop('115', None)\n",
    "dict.pop('116', None)\n",
    "dict.pop('118', None)\n",
    "dict.pop('122', None)\n",
    "dict.pop('128', None)\n",
    "dict.pop('130', None)\n",
    "dict.pop('131', None)\n",
    "dict.pop('132', None)"
   ]
  },
  {
   "cell_type": "code",
   "execution_count": 118,
   "metadata": {},
   "outputs": [],
   "source": [
    "finalperformances = []\n",
    "for rank in range(len(final_df)):\n",
    "    listofwins = []\n",
    "    listofdraws = []\n",
    "    listoflosses = []\n",
    "    rd1 = df.iloc[rank, 8]\n",
    " \n",
    "\n",
    "    if (rd1[0] == 'W'):\n",
    "        listofwins.append(rd1[1:4])\n",
    "    elif (rd1[0] == 'D'):\n",
    "        listofdraws.append(rd1[1:4])\n",
    "    elif (rd1[0] == 'L'):\n",
    "        listoflosses.append(rd1[1:4])\n",
    "        \n",
    "    rd2 = df.iloc[rank, 9]\n",
    "\n",
    "    if (rd2[0] == 'W'):\n",
    "        listofwins.append(rd2[1:4])\n",
    "    elif (rd2[0] == 'D'):\n",
    "        listofdraws.append(rd2[1:4])\n",
    "    elif (rd2[0] == 'L'):\n",
    "        listoflosses.append(rd2[1:4])\n",
    "        \n",
    "        \n",
    "        \n",
    "    rd3 = df.iloc[rank, 10]\n",
    "\n",
    "    if (rd3[0] == 'W'):\n",
    "        listofwins.append(rd3[1:4])\n",
    "    elif (rd3[0] == 'D'):\n",
    "        listofdraws.append(rd3[1:4])\n",
    "    elif (rd3[0] == 'L'):\n",
    "        listoflosses.append(rd3[1:4])\n",
    "        \n",
    "        \n",
    "        \n",
    "    rd4 = df.iloc[rank, 11]\n",
    "    if (rd4[0] == 'W'):\n",
    "        listofwins.append(rd4[1:4])\n",
    "    elif (rd4[0] == 'D'):\n",
    "        listofdraws.append(rd4[1:4])\n",
    "    elif (rd4[0] == 'L'):\n",
    "        listoflosses.append(rd4[1:4])\n",
    "        \n",
    "        \n",
    "        \n",
    "    rd5 = df.iloc[rank, 12]\n",
    "    if (rd5[0] == 'W'):\n",
    "        listofwins.append(rd5[1:4])\n",
    "    elif (rd5[0] == 'D'):\n",
    "        listofdraws.append(rd5[1:4])\n",
    "    elif (rd5[0] == 'L'):\n",
    "        listoflosses.append(rd5[1:4])\n",
    "        \n",
    "        \n",
    "        \n",
    "    rd6 = df.iloc[rank, 13]\n",
    "    if (rd6[0] == 'W'):\n",
    "        listofwins.append(rd6[1:4])\n",
    "    elif (rd6[0] == 'D'):\n",
    "        listofdraws.append(rd6[1:4])\n",
    "    elif (rd6[0] == 'L'):\n",
    "        listoflosses.append(rd6[1:4])\n",
    "        \n",
    "    rd7 = df.iloc[rank, 14]\n",
    "    if (rd7[0] == 'W'):\n",
    "        listofwins.append(rd7[1:4])\n",
    "    elif (rd7[0] == 'D'):\n",
    "        listofdraws.append(rd7[1:4])\n",
    "    elif (rd7[0] == 'L'):\n",
    "        listoflosses.append(rd7[1:4])\n",
    "        \n",
    "        \n",
    "    rd8 = df.iloc[rank, 15]\n",
    "    if (rd8[0] == 'W'):\n",
    "        listofwins.append(rd8[1:4])\n",
    "    elif (rd8[0] == 'D'):\n",
    "        listofdraws.append(rd8[1:4])\n",
    "    elif (rd8[0] == 'L'):\n",
    "        listoflosses.append(rd8[1:4])\n",
    "        \n",
    "        \n",
    "        \n",
    "    rd9 = df.iloc[rank, 16]\n",
    "    if (rd9[0] == 'W'):\n",
    "        listofwins.append(rd9[1:4])\n",
    "    elif (rd9[0] == 'D'):\n",
    "        listofdraws.append(rd9[1:4])\n",
    "    elif (rd9[0] == 'L'):\n",
    "        listoflosses.append(rd9[1:4])\n",
    "        \n",
    "    for item in range(len(listofwins)):\n",
    "        listofwins[item] = listofwins[item].strip()\n",
    "    for item in range(len(listofdraws)):\n",
    "        listofdraws[item] = listofdraws[item].strip()\n",
    "    for item in range(len(listoflosses)):\n",
    "        listoflosses[item] = listoflosses[item].strip()\n",
    "    \n",
    "    numgamescounter = 0\n",
    "    performances = []\n",
    "    for item in listofwins:\n",
    "        try:\n",
    "            blah = int(dict[item]) + 400\n",
    "            performances.append(blah)\n",
    "            numgamescounter += 1\n",
    "        except:\n",
    "            None\n",
    "    for item in listofdraws:\n",
    "        try:\n",
    "            blah = int(dict[item])\n",
    "            performances.append(blah)\n",
    "            numgamescounter += 1\n",
    "        except:\n",
    "            None\n",
    "    for item in listoflosses:\n",
    "        try:\n",
    "            blah = int(dict[item]) -400\n",
    "            performances.append(blah)\n",
    "            numgamescounter += 1\n",
    "        except:\n",
    "            None\n",
    "    numbersonly = []\n",
    "    for item in performances:\n",
    "        num = int(item)\n",
    "        numbersonly.append(num)\n",
    "    summation = sum(numbersonly)\n",
    "    try:   \n",
    "        average = summation/numgamescounter\n",
    "        finalperformances.append(round(average, 1))\n",
    "    except:\n",
    "        finalperformances.append('UNKNOWN')\n",
    "    "
   ]
  },
  {
   "cell_type": "code",
   "execution_count": 119,
   "metadata": {},
   "outputs": [],
   "source": [
    "final_df['Performance Rating'] = finalperformances"
   ]
  },
  {
   "cell_type": "code",
   "execution_count": 120,
   "metadata": {},
   "outputs": [],
   "source": [
    "fides = final_df['FIDE rating'].tolist()\n",
    "performance = final_df['Performance Rating'].tolist()"
   ]
  },
  {
   "cell_type": "code",
   "execution_count": 121,
   "metadata": {},
   "outputs": [],
   "source": [
    "performancediff = []\n",
    "for i in range(len(fides)):\n",
    "    try:  \n",
    "        floatversion = float(fides[i])\n",
    "        diff = performance[i] - floatversion\n",
    "        performancediff.append(diff)\n",
    "    except:\n",
    "        performancediff.append('N/A')"
   ]
  },
  {
   "cell_type": "code",
   "execution_count": 122,
   "metadata": {},
   "outputs": [],
   "source": [
    "final_df['Performance Difference'] = performancediff"
   ]
  },
  {
   "cell_type": "code",
   "execution_count": 123,
   "metadata": {},
   "outputs": [],
   "source": [
    "#final_df.to_csv('FinalDataset.csv')\n",
    "uscf_final_df = final_df"
   ]
  },
  {
   "cell_type": "code",
   "execution_count": 124,
   "metadata": {},
   "outputs": [],
   "source": [
    "final_df = final_df[final_df['Performance Difference'] != 'N/A']"
   ]
  },
  {
   "cell_type": "code",
   "execution_count": 125,
   "metadata": {},
   "outputs": [],
   "source": [
    "viz = final_df[['Birth Year', 'Performance Difference']]"
   ]
  },
  {
   "cell_type": "code",
   "execution_count": 149,
   "metadata": {},
   "outputs": [
    {
     "name": "stderr",
     "output_type": "stream",
     "text": [
      "C:\\Users\\danie\\Anaconda3\\lib\\site-packages\\ipykernel_launcher.py:5: SettingWithCopyWarning: \n",
      "A value is trying to be set on a copy of a slice from a DataFrame.\n",
      "Try using .loc[row_indexer,col_indexer] = value instead\n",
      "\n",
      "See the caveats in the documentation: https://pandas.pydata.org/pandas-docs/stable/user_guide/indexing.html#returning-a-view-versus-a-copy\n",
      "  \"\"\"\n"
     ]
    }
   ],
   "source": [
    "performancedifference = viz['Performance Difference'].tolist()\n",
    "birth1 = viz['Birth Year'].tolist()\n",
    "for item in range(len(birth1)):\n",
    "    birth1[item] = int(birth1[item])\n",
    "    viz['Birth Year'] = birth1"
   ]
  },
  {
   "cell_type": "code",
   "execution_count": 150,
   "metadata": {},
   "outputs": [
    {
     "data": {
      "text/plain": [
       "Text(0.5, 1.0, 'Birth year on National Open FIDE Performance Differences')"
      ]
     },
     "execution_count": 150,
     "metadata": {},
     "output_type": "execute_result"
    },
    {
     "data": {
      "image/png": "[encoded data removed]",
      "text/plain": [
       "<Figure size 432x288 with 1 Axes>"
      ]
     },
     "metadata": {
      "needs_background": "light"
     },
     "output_type": "display_data"
    }
   ],
   "source": [
    "import matplotlib.pyplot as plt\n",
    "\n",
    "\n",
    "ax1 = viz.plot.scatter(x='Birth Year',\n",
    "                      y='Performance Difference',\n",
    "                      c='Purple')\n",
    "x_coordinates = [1940, 2012]\n",
    "y_coordinates = [0, 0]\n",
    "\n",
    "plt.plot(x_coordinates, y_coordinates)\n",
    "\n",
    "x = np.array(birth1)\n",
    "\n",
    "y = np.array(performancedifference)\n",
    "plt.plot(x, y, 'o')\n",
    "\n",
    "m, b = np.polyfit(x, y, 1)\n",
    "\n",
    "plt.plot(x, m*x + b)\n",
    "ax1.set_title('Birth year on National Open FIDE Performance Differences')\n"
   ]
  },
  {
   "cell_type": "code",
   "execution_count": null,
   "metadata": {},
   "outputs": [],
   "source": []
  },
  {
   "cell_type": "code",
   "execution_count": 181,
   "metadata": {},
   "outputs": [
    {
     "ename": "AttributeError",
     "evalue": "module 'matplotlib.pyplot' has no attribute 'set_title'",
     "output_type": "error",
     "traceback": [
      "\u001b[1;31m---------------------------------------------------------------------------\u001b[0m",
      "\u001b[1;31mAttributeError\u001b[0m                            Traceback (most recent call last)",
      "\u001b[1;32m<ipython-input-181-a4640e6a5ea5>\u001b[0m in \u001b[0;36m<module>\u001b[1;34m\u001b[0m\n\u001b[0;32m      3\u001b[0m \u001b[0mplt\u001b[0m\u001b[1;33m.\u001b[0m\u001b[0mhist\u001b[0m\u001b[1;33m(\u001b[0m\u001b[0mbirth1\u001b[0m\u001b[1;33m,\u001b[0m \u001b[0mbins\u001b[0m\u001b[1;33m=\u001b[0m\u001b[0mbin\u001b[0m\u001b[1;33m,\u001b[0m \u001b[0mrange\u001b[0m\u001b[1;33m=\u001b[0m\u001b[1;32mNone\u001b[0m\u001b[1;33m,\u001b[0m \u001b[0mcolor\u001b[0m \u001b[1;33m=\u001b[0m \u001b[1;34m'Purple'\u001b[0m\u001b[1;33m)\u001b[0m\u001b[1;33m\u001b[0m\u001b[1;33m\u001b[0m\u001b[0m\n\u001b[0;32m      4\u001b[0m \u001b[1;31m#plt.set_ylabel('volts')\u001b[0m\u001b[1;33m\u001b[0m\u001b[1;33m\u001b[0m\u001b[1;33m\u001b[0m\u001b[0m\n\u001b[1;32m----> 5\u001b[1;33m \u001b[0mplt\u001b[0m\u001b[1;33m.\u001b[0m\u001b[0mset_title\u001b[0m\u001b[1;33m(\u001b[0m\u001b[1;34m'a sine wave'\u001b[0m\u001b[1;33m)\u001b[0m\u001b[1;33m\u001b[0m\u001b[1;33m\u001b[0m\u001b[0m\n\u001b[0m",
      "\u001b[1;31mAttributeError\u001b[0m: module 'matplotlib.pyplot' has no attribute 'set_title'"
     ]
    },
    {
     "data": {
      "image/png": "[encoded data removed]",
      "text/plain": [
       "<Figure size 432x288 with 1 Axes>"
      ]
     },
     "metadata": {
      "needs_background": "light"
     },
     "output_type": "display_data"
    }
   ],
   "source": [
    "bin = [1940, 1945, 1950, 1955, 1960, 1965, 1970, 1975, 1980, 1985, 1990, 1995, 2000, 2005, 2010, 2015]\n",
    "\n",
    "plt.hist(birth1, bins=bin, range=None, color = 'Purple')\n",
    "#plt.set_ylabel('volts')\n",
    "plt.set_title('a sine wave')"
   ]
  },
  {
   "cell_type": "code",
   "execution_count": 177,
   "metadata": {},
   "outputs": [
    {
     "data": {
      "text/plain": [
       "(array([10.,  4.,  6.,  6.,  8., 15.,  7.,  2.,  2.,  2.]),\n",
       " array([2000. , 2001.1, 2002.2, 2003.3, 2004.4, 2005.5, 2006.6, 2007.7,\n",
       "        2008.8, 2009.9, 2011. ]),\n",
       " <a list of 10 Patch objects>)"
      ]
     },
     "execution_count": 177,
     "metadata": {},
     "output_type": "execute_result"
    },
    {
     "data": {
      "image/png": "[encoded data removed]",
      "text/plain": [
       "<Figure size 432x288 with 1 Axes>"
      ]
     },
     "metadata": {
      "needs_background": "light"
     },
     "output_type": "display_data"
    }
   ],
   "source": [
    "\n",
    "\n",
    "plt.hist(birth1, bins=10, range=(2000, 2011), color = 'Green')"
   ]
  },
  {
   "cell_type": "code",
   "execution_count": null,
   "metadata": {},
   "outputs": [],
   "source": []
  },
  {
   "cell_type": "code",
   "execution_count": 129,
   "metadata": {},
   "outputs": [],
   "source": [
    "#USCF Ratings performances\n",
    "#places = final_df['Place'].tolist()\n",
    "#uscfratings = final_df['USCF rating'].tolist()\n",
    "for item in range(len(originalplaces)):\n",
    "    originalplaces[item] = originalplaces[item].strip()\n",
    "for item in range(len(uscfratings)):\n",
    "    uscfratings[item] = uscfratings[item].strip()\n",
    "uscfdict = {originalplaces[i]: uscfratings[i] for i in range(len(originalplaces))}"
   ]
  },
  {
   "cell_type": "code",
   "execution_count": 130,
   "metadata": {},
   "outputs": [
    {
     "data": {
      "text/plain": [
       "{'1': '2447',\n",
       " '2': '2776',\n",
       " '3': '2543',\n",
       " '4': '2655',\n",
       " '5': '2725',\n",
       " '6': '2628',\n",
       " '7': '2657',\n",
       " '8': '2461',\n",
       " '9': '2540',\n",
       " '10': '2721',\n",
       " '11': '2399',\n",
       " '12': '2391',\n",
       " '13': '2683',\n",
       " '14': '2734',\n",
       " '15': '2620',\n",
       " '16': '2692',\n",
       " '17': '2614',\n",
       " '18': '2467',\n",
       " '19': '2551',\n",
       " '20': '2540',\n",
       " '21': '2632',\n",
       " '22': '2630',\n",
       " '23': '2562',\n",
       " '24': '2436',\n",
       " '25': '2563',\n",
       " '26': '2672',\n",
       " '27': '2490',\n",
       " '28': '2396',\n",
       " '29': '2266',\n",
       " '30': '2430',\n",
       " '31': '2422',\n",
       " '32': '2463',\n",
       " '33': '2415',\n",
       " '34': '2544',\n",
       " '35': '2326',\n",
       " '36': '2626',\n",
       " '37': '2555',\n",
       " '38': '2466',\n",
       " '39': '2516',\n",
       " '40': '2267',\n",
       " '41': '2376',\n",
       " '42': '2427',\n",
       " '43': '2389',\n",
       " '44': '2440',\n",
       " '45': '2333',\n",
       " '46': '2216',\n",
       " '47': '2260',\n",
       " '48': '2346',\n",
       " '49': '2398',\n",
       " '50': '2157',\n",
       " '51': '2346',\n",
       " '52': '2451',\n",
       " '53': '2257',\n",
       " '54': '2392',\n",
       " '55': '2287',\n",
       " '56': '2461',\n",
       " '57': '2211',\n",
       " '58': '2501',\n",
       " '59': '2242',\n",
       " '60': '2358',\n",
       " '61': '2417',\n",
       " '62': '2297',\n",
       " '63': '2267',\n",
       " '64': '2295',\n",
       " '65': '2616',\n",
       " '66': '2337',\n",
       " '67': '2387',\n",
       " '68': '2251',\n",
       " '69': '2631',\n",
       " '70': '2560',\n",
       " '71': '2262',\n",
       " '72': '2278',\n",
       " '73': '2216',\n",
       " '74': '2418',\n",
       " '75': '2350',\n",
       " '76': '2144',\n",
       " '77': '2247',\n",
       " '78': '2396',\n",
       " '79': '2532',\n",
       " '80': '2285',\n",
       " '81': '2333',\n",
       " '82': '2253',\n",
       " '83': '2272',\n",
       " '84': '1751',\n",
       " '85': '2299',\n",
       " '86': '2192',\n",
       " '87': '2338',\n",
       " '88': '2260',\n",
       " '89': '2194',\n",
       " '90': '2207',\n",
       " '91': '2346',\n",
       " '92': '2315',\n",
       " '93': '2148',\n",
       " '94': '2205',\n",
       " '95': '2204',\n",
       " '96': '2123',\n",
       " '97': '2059',\n",
       " '98': '2359',\n",
       " '99': '2228',\n",
       " '100': '2207',\n",
       " '101': '2233',\n",
       " '102': '2272',\n",
       " '103': '2216',\n",
       " '104': '2263',\n",
       " '105': '2105',\n",
       " '106': '2048',\n",
       " '107': '2597',\n",
       " '108': '2041',\n",
       " '109': '2328',\n",
       " '110': '2197',\n",
       " '111': '2104',\n",
       " '112': '2220',\n",
       " '113': '1402',\n",
       " '114': '1708',\n",
       " '115': '1723',\n",
       " '116': '881',\n",
       " '117': '2319',\n",
       " '118': '1402',\n",
       " '119': '1921',\n",
       " '120': '2211',\n",
       " '121': '1800',\n",
       " '122': '1619',\n",
       " '123': '1538',\n",
       " '124': '2097',\n",
       " '125': '2448',\n",
       " '126': '2373',\n",
       " '127': '1626',\n",
       " '128': '',\n",
       " '129': '2502',\n",
       " '130': '1069',\n",
       " '131': '',\n",
       " '132': '1367',\n",
       " '133': '2498',\n",
       " '134': '2247'}"
      ]
     },
     "execution_count": 130,
     "metadata": {},
     "output_type": "execute_result"
    }
   ],
   "source": [
    "uscfdict"
   ]
  },
  {
   "cell_type": "code",
   "execution_count": 131,
   "metadata": {},
   "outputs": [
    {
     "data": {
      "text/plain": [
       "''"
      ]
     },
     "execution_count": 131,
     "metadata": {},
     "output_type": "execute_result"
    }
   ],
   "source": [
    "uscfdict.pop('128', None)\n",
    "uscfdict.pop('131', None)\n"
   ]
  },
  {
   "cell_type": "code",
   "execution_count": 136,
   "metadata": {},
   "outputs": [],
   "source": [
    "uscffinalperformances = []\n",
    "for rank in range(len(uscf_final_df)):\n",
    "    listofwins = []\n",
    "    listofdraws = []\n",
    "    listoflosses = []\n",
    "    rd1 = df.iloc[rank, 8]\n",
    " \n",
    "\n",
    "    if (rd1[0] == 'W'):\n",
    "        listofwins.append(rd1[1:4])\n",
    "    elif (rd1[0] == 'D'):\n",
    "        listofdraws.append(rd1[1:4])\n",
    "    elif (rd1[0] == 'L'):\n",
    "        listoflosses.append(rd1[1:4])\n",
    "        \n",
    "    rd2 = df.iloc[rank, 9]\n",
    "\n",
    "    if (rd2[0] == 'W'):\n",
    "        listofwins.append(rd2[1:4])\n",
    "    elif (rd2[0] == 'D'):\n",
    "        listofdraws.append(rd2[1:4])\n",
    "    elif (rd2[0] == 'L'):\n",
    "        listoflosses.append(rd2[1:4])\n",
    "        \n",
    "        \n",
    "        \n",
    "    rd3 = df.iloc[rank, 10]\n",
    "\n",
    "    if (rd3[0] == 'W'):\n",
    "        listofwins.append(rd3[1:4])\n",
    "    elif (rd3[0] == 'D'):\n",
    "        listofdraws.append(rd3[1:4])\n",
    "    elif (rd3[0] == 'L'):\n",
    "        listoflosses.append(rd3[1:4])\n",
    "        \n",
    "        \n",
    "        \n",
    "    rd4 = df.iloc[rank, 11]\n",
    "    if (rd4[0] == 'W'):\n",
    "        listofwins.append(rd4[1:4])\n",
    "    elif (rd4[0] == 'D'):\n",
    "        listofdraws.append(rd4[1:4])\n",
    "    elif (rd4[0] == 'L'):\n",
    "        listoflosses.append(rd4[1:4])\n",
    "        \n",
    "        \n",
    "        \n",
    "    rd5 = df.iloc[rank, 12]\n",
    "    if (rd5[0] == 'W'):\n",
    "        listofwins.append(rd5[1:4])\n",
    "    elif (rd5[0] == 'D'):\n",
    "        listofdraws.append(rd5[1:4])\n",
    "    elif (rd5[0] == 'L'):\n",
    "        listoflosses.append(rd5[1:4])\n",
    "        \n",
    "        \n",
    "        \n",
    "    rd6 = df.iloc[rank, 13]\n",
    "    if (rd6[0] == 'W'):\n",
    "        listofwins.append(rd6[1:4])\n",
    "    elif (rd6[0] == 'D'):\n",
    "        listofdraws.append(rd6[1:4])\n",
    "    elif (rd6[0] == 'L'):\n",
    "        listoflosses.append(rd6[1:4])\n",
    "        \n",
    "    rd7 = df.iloc[rank, 14]\n",
    "    if (rd7[0] == 'W'):\n",
    "        listofwins.append(rd7[1:4])\n",
    "    elif (rd7[0] == 'D'):\n",
    "        listofdraws.append(rd7[1:4])\n",
    "    elif (rd7[0] == 'L'):\n",
    "        listoflosses.append(rd7[1:4])\n",
    "        \n",
    "        \n",
    "    rd8 = df.iloc[rank, 15]\n",
    "    if (rd8[0] == 'W'):\n",
    "        listofwins.append(rd8[1:4])\n",
    "    elif (rd8[0] == 'D'):\n",
    "        listofdraws.append(rd8[1:4])\n",
    "    elif (rd8[0] == 'L'):\n",
    "        listoflosses.append(rd8[1:4])\n",
    "        \n",
    "        \n",
    "        \n",
    "    rd9 = df.iloc[rank, 16]\n",
    "    if (rd9[0] == 'W'):\n",
    "        listofwins.append(rd9[1:4])\n",
    "    elif (rd9[0] == 'D'):\n",
    "        listofdraws.append(rd9[1:4])\n",
    "    elif (rd9[0] == 'L'):\n",
    "        listoflosses.append(rd9[1:4])\n",
    "        \n",
    "    for item in range(len(listofwins)):\n",
    "        listofwins[item] = listofwins[item].strip()\n",
    "    for item in range(len(listofdraws)):\n",
    "        listofdraws[item] = listofdraws[item].strip()\n",
    "    for item in range(len(listoflosses)):\n",
    "        listoflosses[item] = listoflosses[item].strip()\n",
    "    \n",
    "    numgamescounter = 0\n",
    "    uscfperformances = []\n",
    "    for item in listofwins:\n",
    "        try:\n",
    "            blah = int(uscfdict[item]) + 400\n",
    "            uscfperformances.append(blah)\n",
    "            numgamescounter += 1\n",
    "        except:\n",
    "            None\n",
    "    for item in listofdraws:\n",
    "        try:\n",
    "            blah = int(uscfdict[item])\n",
    "            uscfperformances.append(blah)\n",
    "            numgamescounter += 1\n",
    "        except:\n",
    "            None\n",
    "    for item in listoflosses:\n",
    "        try:\n",
    "            blah = int(uscfdict[item]) -400\n",
    "            uscfperformances.append(blah)\n",
    "            numgamescounter += 1\n",
    "        except:\n",
    "            None\n",
    "    numbersonly = []\n",
    "    for item in uscfperformances:\n",
    "        num = int(item)\n",
    "        numbersonly.append(num)\n",
    "    summation = sum(numbersonly)\n",
    "    try:   \n",
    "        average = summation/numgamescounter\n",
    "        uscffinalperformances.append(round(average, 1))\n",
    "    except:\n",
    "        uscffinalperformances.append('UNKNOWN')\n",
    "    "
   ]
  },
  {
   "cell_type": "code",
   "execution_count": 137,
   "metadata": {},
   "outputs": [
    {
     "data": {
      "text/plain": [
       "134"
      ]
     },
     "execution_count": 137,
     "metadata": {},
     "output_type": "execute_result"
    }
   ],
   "source": [
    "len(uscffinalperformances)"
   ]
  },
  {
   "cell_type": "code",
   "execution_count": 138,
   "metadata": {},
   "outputs": [],
   "source": [
    "uscfs = uscf_final_df['USCF rating'].tolist()\n",
    "uscf_final_df['USCF Performance Rating'] = uscffinalperformances\n",
    "uscfperformance = uscf_final_df['USCF Performance Rating'].tolist()\n",
    "\n",
    "uscfperformancediff = []\n",
    "for i in range(len(uscfs)):\n",
    "    try:  \n",
    "        floatversion = float(uscfs[i])\n",
    "        diff = uscfperformance[i] - floatversion\n",
    "        uscfperformancediff.append(diff)\n",
    "    except:\n",
    "        uscfperformancediff.append('N/A')"
   ]
  },
  {
   "cell_type": "code",
   "execution_count": 139,
   "metadata": {},
   "outputs": [],
   "source": [
    "uscf_final_df['USCF Performance Difference'] = uscfperformancediff"
   ]
  },
  {
   "cell_type": "code",
   "execution_count": 140,
   "metadata": {},
   "outputs": [
    {
     "data": {
      "text/plain": [
       "134"
      ]
     },
     "execution_count": 140,
     "metadata": {},
     "output_type": "execute_result"
    }
   ],
   "source": [
    "len(uscf_final_df)"
   ]
  },
  {
   "cell_type": "code",
   "execution_count": 141,
   "metadata": {},
   "outputs": [],
   "source": [
    "uscf_final_df = uscf_final_df[uscf_final_df['USCF Performance Difference'] != 'N/A']"
   ]
  },
  {
   "cell_type": "code",
   "execution_count": 145,
   "metadata": {},
   "outputs": [
    {
     "data": {
      "text/html": [
       "<div>\n",
       "<style scoped>\n",
       "    .dataframe tbody tr th:only-of-type {\n",
       "        vertical-align: middle;\n",
       "    }\n",
       "\n",
       "    .dataframe tbody tr th {\n",
       "        vertical-align: top;\n",
       "    }\n",
       "\n",
       "    .dataframe thead th {\n",
       "        text-align: right;\n",
       "    }\n",
       "</style>\n",
       "<table border=\"1\" class=\"dataframe\">\n",
       "  <thead>\n",
       "    <tr style=\"text-align: right;\">\n",
       "      <th></th>\n",
       "      <th>Birth Year</th>\n",
       "      <th>USCF Performance Difference</th>\n",
       "    </tr>\n",
       "  </thead>\n",
       "  <tbody>\n",
       "    <tr>\n",
       "      <th>131</th>\n",
       "      <td>UNKNOWN</td>\n",
       "      <td>314.4</td>\n",
       "    </tr>\n",
       "  </tbody>\n",
       "</table>\n",
       "</div>"
      ],
      "text/plain": [
       "    Birth Year USCF Performance Difference\n",
       "131    UNKNOWN                       314.4"
      ]
     },
     "execution_count": 145,
     "metadata": {},
     "output_type": "execute_result"
    }
   ],
   "source": [
    "# viz2[viz2['Birth Year'] == 'UNKNOWN']"
   ]
  },
  {
   "cell_type": "code",
   "execution_count": 152,
   "metadata": {},
   "outputs": [],
   "source": [
    "viz2 = uscf_final_df[['Birth Year', 'USCF Performance Difference']]\n",
    "viz2 = viz2[viz2['Birth Year'] != 'UNKNOWN']\n",
    "uscfperformancedifference = viz2['USCF Performance Difference'].tolist()\n",
    "birth2 = viz2['Birth Year'].tolist()\n",
    "for item in range(len(birth2)):\n",
    "    birth2[item] = int(birth2[item])\n",
    "    viz2['Birth Year'] = birth2"
   ]
  },
  {
   "cell_type": "code",
   "execution_count": 153,
   "metadata": {},
   "outputs": [
    {
     "data": {
      "text/plain": [
       "Text(0.5, 1.0, 'Birth year on National Open USCF Performance Differences')"
      ]
     },
     "execution_count": 153,
     "metadata": {},
     "output_type": "execute_result"
    },
    {
     "data": {
      "image/png": "[encoded data removed]",
      "text/plain": [
       "<Figure size 432x288 with 1 Axes>"
      ]
     },
     "metadata": {
      "needs_background": "light"
     },
     "output_type": "display_data"
    }
   ],
   "source": [
    "import matplotlib.pyplot as plt\n",
    "\n",
    "\n",
    "ax1 = viz2.plot.scatter(x='Birth Year',\n",
    "                      y='USCF Performance Difference',\n",
    "                      c='Red')\n",
    "x_coordinates = [1940, 2012]\n",
    "y_coordinates = [0, 0]\n",
    "\n",
    "plt.plot(x_coordinates, y_coordinates)\n",
    "\n",
    "x = np.array(birth2)\n",
    "\n",
    "y = np.array(uscfperformancedifference)\n",
    "plt.plot(x, y, 'o')\n",
    "\n",
    "m, b = np.polyfit(x, y, 1)\n",
    "\n",
    "plt.plot(x, m*x + b)\n",
    "ax1.set_title('Birth year on National Open USCF Performance Differences')\n"
   ]
  },
  {
   "cell_type": "code",
   "execution_count": null,
   "metadata": {},
   "outputs": [],
   "source": []
  }
 ],
 "metadata": {
  "kernelspec": {
   "display_name": "Python 3",
   "language": "python",
   "name": "python3"
  },
  "language_info": {
   "codemirror_mode": {
    "name": "ipython",
    "version": 3
   },
   "file_extension": ".py",
   "mimetype": "text/x-python",
   "name": "python",
   "nbconvert_exporter": "python",
   "pygments_lexer": "ipython3",
   "version": "3.7.6"
  }
 },
 "nbformat": 4,
 "nbformat_minor": 4
}
